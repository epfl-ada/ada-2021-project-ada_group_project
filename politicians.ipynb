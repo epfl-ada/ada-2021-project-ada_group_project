{
 "cells": [
  {
   "cell_type": "markdown",
   "metadata": {},
   "source": [
    "### Notebook creating a csv file with politician names and their corresponding US state"
   ]
  },
  {
   "cell_type": "markdown",
   "metadata": {},
   "source": [
    "#### only a small selection of people - can add more later"
   ]
  },
  {
   "cell_type": "code",
   "execution_count": 2,
   "metadata": {},
   "outputs": [],
   "source": [
    "import pandas as pd\n",
    "import matplotlib.pyplot as plt\n",
    "import numpy as np\n",
    "\n",
    "# Files with congress people in them (2015 - present)\n",
    "congress_114 = pd.read_csv(\"data/term-114.csv\")\n",
    "congress_115 = pd.read_csv(\"data/term-115.csv\")\n",
    "congress_116 = pd.read_csv(\"data/term-116.csv\")"
   ]
  },
  {
   "cell_type": "code",
   "execution_count": 4,
   "metadata": {},
   "outputs": [],
   "source": [
    "#only current senators\n",
    "senators = pd.read_csv(\"data/us_senators.csv\")"
   ]
  },
  {
   "cell_type": "code",
   "execution_count": 5,
   "metadata": {},
   "outputs": [],
   "source": [
    "congress_114['area'] = congress_114['area'].str.split(\"'\")\n",
    "congress_115['area'] = congress_115['area'].str.split(\"'\")\n",
    "congress_116['area'] = congress_116['area'].str.split(\"'\")"
   ]
  },
  {
   "cell_type": "code",
   "execution_count": 6,
   "metadata": {},
   "outputs": [],
   "source": [
    "congress_114['area'] = congress_114['area'].str[0]\n",
    "congress_115['area'] = congress_115['area'].str[0]\n",
    "congress_116['area'] = congress_116['area'].str[0]"
   ]
  },
  {
   "cell_type": "code",
   "execution_count": 7,
   "metadata": {},
   "outputs": [],
   "source": [
    "congress = pd.concat([congress_114, congress_115, congress_116])"
   ]
  },
  {
   "cell_type": "code",
   "execution_count": 8,
   "metadata": {},
   "outputs": [
    {
     "data": {
      "text/plain": [
       "Marcy Kaptur           3\n",
       "Sam Graves             3\n",
       "Rob Woodall            3\n",
       "Mario Diaz-Balart      3\n",
       "Grace F. Napolitano    3\n",
       "                      ..\n",
       "Mark E. Green          1\n",
       "Steve Israel           1\n",
       "Ed Whitfield           1\n",
       "Debra A. Haaland       1\n",
       "Guy Reschenthaler      1\n",
       "Name: name, Length: 603, dtype: int64"
      ]
     },
     "execution_count": 8,
     "metadata": {},
     "output_type": "execute_result"
    }
   ],
   "source": [
    "congress.name.value_counts()"
   ]
  },
  {
   "cell_type": "code",
   "execution_count": 9,
   "metadata": {},
   "outputs": [
    {
     "data": {
      "text/plain": [
       "(603, 19)"
      ]
     },
     "execution_count": 9,
     "metadata": {},
     "output_type": "execute_result"
    }
   ],
   "source": [
    "congress = congress.drop_duplicates(subset=['name'])\n",
    "congress.shape"
   ]
  },
  {
   "cell_type": "code",
   "execution_count": 10,
   "metadata": {},
   "outputs": [
    {
     "data": {
      "text/html": [
       "<div>\n",
       "<style scoped>\n",
       "    .dataframe tbody tr th:only-of-type {\n",
       "        vertical-align: middle;\n",
       "    }\n",
       "\n",
       "    .dataframe tbody tr th {\n",
       "        vertical-align: top;\n",
       "    }\n",
       "\n",
       "    .dataframe thead th {\n",
       "        text-align: right;\n",
       "    }\n",
       "</style>\n",
       "<table border=\"1\" class=\"dataframe\">\n",
       "  <thead>\n",
       "    <tr style=\"text-align: right;\">\n",
       "      <th></th>\n",
       "      <th>id</th>\n",
       "      <th>name</th>\n",
       "      <th>sort_name</th>\n",
       "      <th>email</th>\n",
       "      <th>twitter</th>\n",
       "      <th>facebook</th>\n",
       "      <th>group</th>\n",
       "      <th>group_id</th>\n",
       "      <th>area_id</th>\n",
       "      <th>area</th>\n",
       "      <th>chamber</th>\n",
       "      <th>term</th>\n",
       "      <th>start_date</th>\n",
       "      <th>end_date</th>\n",
       "      <th>image</th>\n",
       "      <th>gender</th>\n",
       "      <th>wikidata</th>\n",
       "      <th>wikidata_group</th>\n",
       "      <th>wikidata_area</th>\n",
       "    </tr>\n",
       "  </thead>\n",
       "  <tbody>\n",
       "    <tr>\n",
       "      <th>0</th>\n",
       "      <td>cfc9cc09-a33a-42d9-89c3-14effb20b8b0</td>\n",
       "      <td>Aaron Schock</td>\n",
       "      <td>Schock, Aaron</td>\n",
       "      <td>NaN</td>\n",
       "      <td>AaronSchock</td>\n",
       "      <td>RepAaronSchock</td>\n",
       "      <td>Republican</td>\n",
       "      <td>republican</td>\n",
       "      <td>IL-18</td>\n",
       "      <td>Illinois</td>\n",
       "      <td>House of Representatives</td>\n",
       "      <td>114</td>\n",
       "      <td>NaN</td>\n",
       "      <td>2015-03-31</td>\n",
       "      <td>https://theunitedstates.io/images/congress/ori...</td>\n",
       "      <td>male</td>\n",
       "      <td>Q302659</td>\n",
       "      <td>Q29468</td>\n",
       "      <td>Q3032529</td>\n",
       "    </tr>\n",
       "    <tr>\n",
       "      <th>1</th>\n",
       "      <td>e0b61cab-a183-4a44-bb0a-81f25fda8de3</td>\n",
       "      <td>Adam B. Schiff</td>\n",
       "      <td>Schiff, Adam</td>\n",
       "      <td>NaN</td>\n",
       "      <td>RepAdamSchiff</td>\n",
       "      <td>RepAdamSchiff</td>\n",
       "      <td>Democrat</td>\n",
       "      <td>democrat</td>\n",
       "      <td>CA-28</td>\n",
       "      <td>California</td>\n",
       "      <td>House of Representatives</td>\n",
       "      <td>114</td>\n",
       "      <td>NaN</td>\n",
       "      <td>NaN</td>\n",
       "      <td>https://theunitedstates.io/images/congress/ori...</td>\n",
       "      <td>male</td>\n",
       "      <td>Q350843</td>\n",
       "      <td>Q29552</td>\n",
       "      <td>Q5020000</td>\n",
       "    </tr>\n",
       "    <tr>\n",
       "      <th>2</th>\n",
       "      <td>159bbcc4-afee-4a5d-9097-e2be4d8ca9c7</td>\n",
       "      <td>Adam Kinzinger</td>\n",
       "      <td>Kinzinger, Adam</td>\n",
       "      <td>NaN</td>\n",
       "      <td>RepKinzinger</td>\n",
       "      <td>RepKinzinger</td>\n",
       "      <td>Republican</td>\n",
       "      <td>republican</td>\n",
       "      <td>IL-16</td>\n",
       "      <td>Illinois</td>\n",
       "      <td>House of Representatives</td>\n",
       "      <td>114</td>\n",
       "      <td>NaN</td>\n",
       "      <td>NaN</td>\n",
       "      <td>https://theunitedstates.io/images/congress/ori...</td>\n",
       "      <td>male</td>\n",
       "      <td>Q349955</td>\n",
       "      <td>Q29468</td>\n",
       "      <td>Q3477977</td>\n",
       "    </tr>\n",
       "    <tr>\n",
       "      <th>3</th>\n",
       "      <td>fed6fe02-7935-4711-a190-fed9abd0a5ae</td>\n",
       "      <td>Adam Smith</td>\n",
       "      <td>Smith, Adam</td>\n",
       "      <td>NaN</td>\n",
       "      <td>RepAdamSmith</td>\n",
       "      <td>RepAdamSmith</td>\n",
       "      <td>Democrat</td>\n",
       "      <td>democrat</td>\n",
       "      <td>WA-9</td>\n",
       "      <td>Washington</td>\n",
       "      <td>House of Representatives</td>\n",
       "      <td>114</td>\n",
       "      <td>NaN</td>\n",
       "      <td>NaN</td>\n",
       "      <td>https://theunitedstates.io/images/congress/ori...</td>\n",
       "      <td>male</td>\n",
       "      <td>Q350916</td>\n",
       "      <td>Q29552</td>\n",
       "      <td>Q7971571</td>\n",
       "    </tr>\n",
       "    <tr>\n",
       "      <th>4</th>\n",
       "      <td>4eb41831-ea19-4833-86f9-6f6c3ba72451</td>\n",
       "      <td>Adrian Smith</td>\n",
       "      <td>Smith, Adrian</td>\n",
       "      <td>NaN</td>\n",
       "      <td>RepAdrianSmith</td>\n",
       "      <td>NaN</td>\n",
       "      <td>Republican</td>\n",
       "      <td>republican</td>\n",
       "      <td>NE-3</td>\n",
       "      <td>Nebraska</td>\n",
       "      <td>House of Representatives</td>\n",
       "      <td>114</td>\n",
       "      <td>NaN</td>\n",
       "      <td>NaN</td>\n",
       "      <td>https://theunitedstates.io/images/congress/ori...</td>\n",
       "      <td>male</td>\n",
       "      <td>Q373443</td>\n",
       "      <td>Q29468</td>\n",
       "      <td>Q6984664</td>\n",
       "    </tr>\n",
       "  </tbody>\n",
       "</table>\n",
       "</div>"
      ],
      "text/plain": [
       "                                     id            name        sort_name  \\\n",
       "0  cfc9cc09-a33a-42d9-89c3-14effb20b8b0    Aaron Schock    Schock, Aaron   \n",
       "1  e0b61cab-a183-4a44-bb0a-81f25fda8de3  Adam B. Schiff     Schiff, Adam   \n",
       "2  159bbcc4-afee-4a5d-9097-e2be4d8ca9c7  Adam Kinzinger  Kinzinger, Adam   \n",
       "3  fed6fe02-7935-4711-a190-fed9abd0a5ae      Adam Smith      Smith, Adam   \n",
       "4  4eb41831-ea19-4833-86f9-6f6c3ba72451    Adrian Smith    Smith, Adrian   \n",
       "\n",
       "   email         twitter        facebook       group    group_id area_id  \\\n",
       "0    NaN     AaronSchock  RepAaronSchock  Republican  republican   IL-18   \n",
       "1    NaN   RepAdamSchiff   RepAdamSchiff    Democrat    democrat   CA-28   \n",
       "2    NaN    RepKinzinger    RepKinzinger  Republican  republican   IL-16   \n",
       "3    NaN    RepAdamSmith    RepAdamSmith    Democrat    democrat    WA-9   \n",
       "4    NaN  RepAdrianSmith             NaN  Republican  republican    NE-3   \n",
       "\n",
       "         area                   chamber  term start_date    end_date  \\\n",
       "0    Illinois  House of Representatives   114        NaN  2015-03-31   \n",
       "1  California  House of Representatives   114        NaN         NaN   \n",
       "2    Illinois  House of Representatives   114        NaN         NaN   \n",
       "3  Washington  House of Representatives   114        NaN         NaN   \n",
       "4    Nebraska  House of Representatives   114        NaN         NaN   \n",
       "\n",
       "                                               image gender wikidata  \\\n",
       "0  https://theunitedstates.io/images/congress/ori...   male  Q302659   \n",
       "1  https://theunitedstates.io/images/congress/ori...   male  Q350843   \n",
       "2  https://theunitedstates.io/images/congress/ori...   male  Q349955   \n",
       "3  https://theunitedstates.io/images/congress/ori...   male  Q350916   \n",
       "4  https://theunitedstates.io/images/congress/ori...   male  Q373443   \n",
       "\n",
       "  wikidata_group wikidata_area  \n",
       "0         Q29468      Q3032529  \n",
       "1         Q29552      Q5020000  \n",
       "2         Q29468      Q3477977  \n",
       "3         Q29552      Q7971571  \n",
       "4         Q29468      Q6984664  "
      ]
     },
     "execution_count": 10,
     "metadata": {},
     "output_type": "execute_result"
    }
   ],
   "source": [
    "congress.head()"
   ]
  },
  {
   "cell_type": "code",
   "execution_count": 11,
   "metadata": {},
   "outputs": [],
   "source": [
    "names = congress.name"
   ]
  },
  {
   "cell_type": "code",
   "execution_count": 12,
   "metadata": {},
   "outputs": [],
   "source": [
    "sen_names = senators.Senator"
   ]
  },
  {
   "cell_type": "code",
   "execution_count": 14,
   "metadata": {},
   "outputs": [
    {
     "data": {
      "text/plain": [
       "Index(['id', 'name', 'sort_name', 'email', 'twitter', 'facebook', 'group',\n",
       "       'group_id', 'area_id', 'area', 'chamber', 'term', 'start_date',\n",
       "       'end_date', 'image', 'gender', 'wikidata', 'wikidata_group',\n",
       "       'wikidata_area'],\n",
       "      dtype='object')"
      ]
     },
     "execution_count": 14,
     "metadata": {},
     "output_type": "execute_result"
    }
   ],
   "source": [
    "congress.columns"
   ]
  },
  {
   "cell_type": "markdown",
   "metadata": {},
   "source": [
    "**First, let's compare the distribution of speakers for Republican and Democrats.**"
   ]
  },
  {
   "cell_type": "code",
   "execution_count": 15,
   "metadata": {},
   "outputs": [],
   "source": [
    "#keep group to compare Republican and Democrats\n",
    "congress_demo_rep= congress.drop(columns = ['id', 'sort_name', 'email', 'twitter', 'facebook',\n",
    "       'group_id', 'area_id', 'chamber', 'term', 'start_date',\n",
    "       'end_date', 'image', 'gender', 'wikidata', 'wikidata_group',\n",
    "       'wikidata_area'])\n",
    "\n",
    "congress_demo_rep = congress_demo_rep.rename(columns={\"area\": \"state\", \"name\": \"speaker\"})"
   ]
  },
  {
   "cell_type": "code",
   "execution_count": 16,
   "metadata": {},
   "outputs": [
    {
     "data": {
      "text/plain": [
       "Republican     318\n",
       "Democrat       284\n",
       "Independent      1\n",
       "Name: group, dtype: int64"
      ]
     },
     "execution_count": 16,
     "metadata": {},
     "output_type": "execute_result"
    }
   ],
   "source": [
    "congress_demo_rep.group.value_counts()"
   ]
  },
  {
   "cell_type": "code",
   "execution_count": 17,
   "metadata": {},
   "outputs": [
    {
     "data": {
      "image/png": "[encoded data removed]",
      "text/plain": [
       "<Figure size 936x360 with 1 Axes>"
      ]
     },
     "metadata": {
      "needs_background": "light"
     },
     "output_type": "display_data"
    }
   ],
   "source": [
    "plt.figure(figsize=(13,5))\n",
    "plt.hist(congress_demo_rep[congress_demo_rep['group']=='Democrat'].state, alpha=0.5, label='Democrat', bins = np.arange(50))\n",
    "plt.hist(congress_demo_rep[congress_demo_rep['group']=='Republican'].state, alpha=0.5,label='Republican', bins = np.arange(50))\n",
    "plt.legend(loc='upper right')\n",
    "plt.xlabel('States')\n",
    "plt.ylabel('Number of speakers')\n",
    "plt.title('Distribution of speaker in each state for democrat and republican ')\n",
    "plt.xticks(rotation = 75)\n",
    "plt.show()"
   ]
  },
  {
   "cell_type": "markdown",
   "metadata": {},
   "source": [
    "This histogram shows the distribution of speaker in each state depending on their political group, either democrat or republican. We can see that in California, democrats are much more present than republicans. Same in New-York.\n",
    "Indeed, California autorizes since june 2013 gay wedding thanks to the Supreme Court. In New-York, it is the case since 2011. It has been the case for all states in june 2015. "
   ]
  },
  {
   "cell_type": "markdown",
   "metadata": {},
   "source": [
    "**Let's compare the speaker by gender**"
   ]
  },
  {
   "cell_type": "code",
   "execution_count": 18,
   "metadata": {},
   "outputs": [],
   "source": [
    "congress_gender= congress.drop(columns = ['id', 'sort_name', 'email', 'twitter', 'facebook', 'group',\n",
    "       'group_id', 'area_id', 'chamber', 'term', 'start_date',\n",
    "       'end_date', 'image', 'wikidata', 'wikidata_group',\n",
    "       'wikidata_area'])\n",
    "\n",
    "congress_gender = congress_gender.rename(columns={\"area\": \"state\", \"name\": \"speaker\"})"
   ]
  },
  {
   "cell_type": "code",
   "execution_count": 19,
   "metadata": {},
   "outputs": [
    {
     "data": {
      "text/plain": [
       "male      466\n",
       "female    137\n",
       "Name: gender, dtype: int64"
      ]
     },
     "execution_count": 19,
     "metadata": {},
     "output_type": "execute_result"
    }
   ],
   "source": [
    "congress_gender.gender.value_counts()"
   ]
  },
  {
   "cell_type": "markdown",
   "metadata": {},
   "source": [
    "We can see that there are much more male speakers. It is not surprising as male tend to be much more represented in politics."
   ]
  },
  {
   "cell_type": "code",
   "execution_count": 12,
   "metadata": {},
   "outputs": [],
   "source": [
    "congressdropped = congress.drop(columns = ['id', 'sort_name', 'email', 'twitter', 'facebook', 'group',\n",
    "       'group_id', 'area_id', 'chamber', 'term', 'start_date',\n",
    "       'end_date', 'image', 'gender', 'wikidata', 'wikidata_group',\n",
    "       'wikidata_area'])"
   ]
  },
  {
   "cell_type": "code",
   "execution_count": 13,
   "metadata": {},
   "outputs": [
    {
     "data": {
      "text/plain": [
       "Index(['State', 'Portrait', 'Senator', 'Party', 'Party.1', 'Born',\n",
       "       'Occupation(s)', 'Previous electiveoffice(s)', 'Education',\n",
       "       'Assumed office', 'Term up', 'Residence'],\n",
       "      dtype='object')"
      ]
     },
     "execution_count": 13,
     "metadata": {},
     "output_type": "execute_result"
    }
   ],
   "source": [
    "senators.columns"
   ]
  },
  {
   "cell_type": "code",
   "execution_count": 14,
   "metadata": {},
   "outputs": [
    {
     "data": {
      "text/html": [
       "<div>\n",
       "<style scoped>\n",
       "    .dataframe tbody tr th:only-of-type {\n",
       "        vertical-align: middle;\n",
       "    }\n",
       "\n",
       "    .dataframe tbody tr th {\n",
       "        vertical-align: top;\n",
       "    }\n",
       "\n",
       "    .dataframe thead th {\n",
       "        text-align: right;\n",
       "    }\n",
       "</style>\n",
       "<table border=\"1\" class=\"dataframe\">\n",
       "  <thead>\n",
       "    <tr style=\"text-align: right;\">\n",
       "      <th></th>\n",
       "      <th>speaker</th>\n",
       "      <th>state</th>\n",
       "    </tr>\n",
       "  </thead>\n",
       "  <tbody>\n",
       "    <tr>\n",
       "      <th>0</th>\n",
       "      <td>Aaron Schock</td>\n",
       "      <td>Illinois</td>\n",
       "    </tr>\n",
       "    <tr>\n",
       "      <th>1</th>\n",
       "      <td>Adam B. Schiff</td>\n",
       "      <td>California</td>\n",
       "    </tr>\n",
       "    <tr>\n",
       "      <th>2</th>\n",
       "      <td>Adam Kinzinger</td>\n",
       "      <td>Illinois</td>\n",
       "    </tr>\n",
       "    <tr>\n",
       "      <th>3</th>\n",
       "      <td>Adam Smith</td>\n",
       "      <td>Washington</td>\n",
       "    </tr>\n",
       "    <tr>\n",
       "      <th>4</th>\n",
       "      <td>Adrian Smith</td>\n",
       "      <td>Nebraska</td>\n",
       "    </tr>\n",
       "    <tr>\n",
       "      <th>...</th>\n",
       "      <td>...</td>\n",
       "      <td>...</td>\n",
       "    </tr>\n",
       "    <tr>\n",
       "      <th>424</th>\n",
       "      <td>Van Taylor</td>\n",
       "      <td>Texas</td>\n",
       "    </tr>\n",
       "    <tr>\n",
       "      <th>426</th>\n",
       "      <td>Veronica Escobar</td>\n",
       "      <td>Texas</td>\n",
       "    </tr>\n",
       "    <tr>\n",
       "      <th>430</th>\n",
       "      <td>W. Gregory Steube</td>\n",
       "      <td>Florida</td>\n",
       "    </tr>\n",
       "    <tr>\n",
       "      <th>435</th>\n",
       "      <td>William R. Timmons IV</td>\n",
       "      <td>South Carolina</td>\n",
       "    </tr>\n",
       "    <tr>\n",
       "      <th>437</th>\n",
       "      <td>Xochitl Torres Small</td>\n",
       "      <td>New Mexico</td>\n",
       "    </tr>\n",
       "  </tbody>\n",
       "</table>\n",
       "<p>603 rows × 2 columns</p>\n",
       "</div>"
      ],
      "text/plain": [
       "                   speaker           state\n",
       "0             Aaron Schock        Illinois\n",
       "1           Adam B. Schiff      California\n",
       "2           Adam Kinzinger        Illinois\n",
       "3               Adam Smith      Washington\n",
       "4             Adrian Smith        Nebraska\n",
       "..                     ...             ...\n",
       "424             Van Taylor           Texas\n",
       "426       Veronica Escobar           Texas\n",
       "430      W. Gregory Steube         Florida\n",
       "435  William R. Timmons IV  South Carolina\n",
       "437   Xochitl Torres Small      New Mexico\n",
       "\n",
       "[603 rows x 2 columns]"
      ]
     },
     "execution_count": 14,
     "metadata": {},
     "output_type": "execute_result"
    }
   ],
   "source": [
    "congressdropped = congressdropped.rename(columns={\"area\": \"state\", \"name\": \"speaker\"})\n",
    "congressdropped"
   ]
  },
  {
   "cell_type": "code",
   "execution_count": 15,
   "metadata": {},
   "outputs": [],
   "source": [
    "senatorsdropped = senators.drop(columns = ['Portrait', 'Party', 'Party.1', 'Born',\n",
    "       'Occupation(s)', 'Previous electiveoffice(s)', 'Education',\n",
    "       'Assumed office', 'Term up', 'Residence'])"
   ]
  },
  {
   "cell_type": "code",
   "execution_count": 16,
   "metadata": {},
   "outputs": [
    {
     "data": {
      "text/html": [
       "<div>\n",
       "<style scoped>\n",
       "    .dataframe tbody tr th:only-of-type {\n",
       "        vertical-align: middle;\n",
       "    }\n",
       "\n",
       "    .dataframe tbody tr th {\n",
       "        vertical-align: top;\n",
       "    }\n",
       "\n",
       "    .dataframe thead th {\n",
       "        text-align: right;\n",
       "    }\n",
       "</style>\n",
       "<table border=\"1\" class=\"dataframe\">\n",
       "  <thead>\n",
       "    <tr style=\"text-align: right;\">\n",
       "      <th></th>\n",
       "      <th>state</th>\n",
       "      <th>speaker</th>\n",
       "    </tr>\n",
       "  </thead>\n",
       "  <tbody>\n",
       "    <tr>\n",
       "      <th>0</th>\n",
       "      <td>Alabama</td>\n",
       "      <td>Richard Shelby</td>\n",
       "    </tr>\n",
       "    <tr>\n",
       "      <th>1</th>\n",
       "      <td>Alabama</td>\n",
       "      <td>Tommy Tuberville</td>\n",
       "    </tr>\n",
       "    <tr>\n",
       "      <th>2</th>\n",
       "      <td>Alaska</td>\n",
       "      <td>Lisa Murkowski</td>\n",
       "    </tr>\n",
       "    <tr>\n",
       "      <th>3</th>\n",
       "      <td>Alaska</td>\n",
       "      <td>Dan Sullivan</td>\n",
       "    </tr>\n",
       "    <tr>\n",
       "      <th>4</th>\n",
       "      <td>Arizona</td>\n",
       "      <td>Kyrsten Sinema</td>\n",
       "    </tr>\n",
       "    <tr>\n",
       "      <th>...</th>\n",
       "      <td>...</td>\n",
       "      <td>...</td>\n",
       "    </tr>\n",
       "    <tr>\n",
       "      <th>95</th>\n",
       "      <td>West Virginia</td>\n",
       "      <td>Shelley Moore Capito</td>\n",
       "    </tr>\n",
       "    <tr>\n",
       "      <th>96</th>\n",
       "      <td>Wisconsin</td>\n",
       "      <td>Ron Johnson</td>\n",
       "    </tr>\n",
       "    <tr>\n",
       "      <th>97</th>\n",
       "      <td>Wisconsin</td>\n",
       "      <td>Tammy Baldwin</td>\n",
       "    </tr>\n",
       "    <tr>\n",
       "      <th>98</th>\n",
       "      <td>Wyoming</td>\n",
       "      <td>John Barrasso</td>\n",
       "    </tr>\n",
       "    <tr>\n",
       "      <th>99</th>\n",
       "      <td>Wyoming</td>\n",
       "      <td>Cynthia Lummis</td>\n",
       "    </tr>\n",
       "  </tbody>\n",
       "</table>\n",
       "<p>100 rows × 2 columns</p>\n",
       "</div>"
      ],
      "text/plain": [
       "            state               speaker\n",
       "0         Alabama        Richard Shelby\n",
       "1         Alabama      Tommy Tuberville\n",
       "2          Alaska        Lisa Murkowski\n",
       "3          Alaska          Dan Sullivan\n",
       "4         Arizona        Kyrsten Sinema\n",
       "..            ...                   ...\n",
       "95  West Virginia  Shelley Moore Capito\n",
       "96      Wisconsin           Ron Johnson\n",
       "97      Wisconsin         Tammy Baldwin\n",
       "98        Wyoming         John Barrasso\n",
       "99        Wyoming        Cynthia Lummis\n",
       "\n",
       "[100 rows x 2 columns]"
      ]
     },
     "execution_count": 16,
     "metadata": {},
     "output_type": "execute_result"
    }
   ],
   "source": [
    "senatorsdropped = senatorsdropped.rename(columns = {'State': 'state', 'Senator': 'speaker'})\n",
    "senatorsdropped"
   ]
  },
  {
   "cell_type": "code",
   "execution_count": 17,
   "metadata": {},
   "outputs": [],
   "source": [
    "sen_con = pd.concat([senatorsdropped, congressdropped])\n",
    "sen_con = sen_con.drop_duplicates(subset=['speaker'])"
   ]
  },
  {
   "cell_type": "code",
   "execution_count": 21,
   "metadata": {},
   "outputs": [],
   "source": [
    "sen_con.to_csv(\"politicians.csv\", index = False)"
   ]
  },
  {
   "cell_type": "code",
   "execution_count": 19,
   "metadata": {},
   "outputs": [
    {
     "data": {
      "text/html": [
       "<div>\n",
       "<style scoped>\n",
       "    .dataframe tbody tr th:only-of-type {\n",
       "        vertical-align: middle;\n",
       "    }\n",
       "\n",
       "    .dataframe tbody tr th {\n",
       "        vertical-align: top;\n",
       "    }\n",
       "\n",
       "    .dataframe thead th {\n",
       "        text-align: right;\n",
       "    }\n",
       "</style>\n",
       "<table border=\"1\" class=\"dataframe\">\n",
       "  <thead>\n",
       "    <tr style=\"text-align: right;\">\n",
       "      <th></th>\n",
       "      <th>state</th>\n",
       "      <th>speaker</th>\n",
       "    </tr>\n",
       "  </thead>\n",
       "  <tbody>\n",
       "    <tr>\n",
       "      <th>0</th>\n",
       "      <td>Alabama</td>\n",
       "      <td>Richard Shelby</td>\n",
       "    </tr>\n",
       "    <tr>\n",
       "      <th>1</th>\n",
       "      <td>Alabama</td>\n",
       "      <td>Tommy Tuberville</td>\n",
       "    </tr>\n",
       "    <tr>\n",
       "      <th>2</th>\n",
       "      <td>Alaska</td>\n",
       "      <td>Lisa Murkowski</td>\n",
       "    </tr>\n",
       "    <tr>\n",
       "      <th>3</th>\n",
       "      <td>Alaska</td>\n",
       "      <td>Dan Sullivan</td>\n",
       "    </tr>\n",
       "    <tr>\n",
       "      <th>4</th>\n",
       "      <td>Arizona</td>\n",
       "      <td>Kyrsten Sinema</td>\n",
       "    </tr>\n",
       "    <tr>\n",
       "      <th>...</th>\n",
       "      <td>...</td>\n",
       "      <td>...</td>\n",
       "    </tr>\n",
       "    <tr>\n",
       "      <th>424</th>\n",
       "      <td>Texas</td>\n",
       "      <td>Van Taylor</td>\n",
       "    </tr>\n",
       "    <tr>\n",
       "      <th>426</th>\n",
       "      <td>Texas</td>\n",
       "      <td>Veronica Escobar</td>\n",
       "    </tr>\n",
       "    <tr>\n",
       "      <th>430</th>\n",
       "      <td>Florida</td>\n",
       "      <td>W. Gregory Steube</td>\n",
       "    </tr>\n",
       "    <tr>\n",
       "      <th>435</th>\n",
       "      <td>South Carolina</td>\n",
       "      <td>William R. Timmons IV</td>\n",
       "    </tr>\n",
       "    <tr>\n",
       "      <th>437</th>\n",
       "      <td>New Mexico</td>\n",
       "      <td>Xochitl Torres Small</td>\n",
       "    </tr>\n",
       "  </tbody>\n",
       "</table>\n",
       "<p>695 rows × 2 columns</p>\n",
       "</div>"
      ],
      "text/plain": [
       "              state                speaker\n",
       "0           Alabama         Richard Shelby\n",
       "1           Alabama       Tommy Tuberville\n",
       "2            Alaska         Lisa Murkowski\n",
       "3            Alaska           Dan Sullivan\n",
       "4           Arizona         Kyrsten Sinema\n",
       "..              ...                    ...\n",
       "424           Texas             Van Taylor\n",
       "426           Texas       Veronica Escobar\n",
       "430         Florida      W. Gregory Steube\n",
       "435  South Carolina  William R. Timmons IV\n",
       "437      New Mexico   Xochitl Torres Small\n",
       "\n",
       "[695 rows x 2 columns]"
      ]
     },
     "execution_count": 19,
     "metadata": {},
     "output_type": "execute_result"
    }
   ],
   "source": [
    "sen_con"
   ]
  },
  {
   "cell_type": "code",
   "execution_count": null,
   "metadata": {},
   "outputs": [],
   "source": []
  }
 ],
 "metadata": {
  "kernelspec": {
   "display_name": "Python 3",
   "language": "python",
   "name": "python3"
  },
  "language_info": {
   "codemirror_mode": {
    "name": "ipython",
    "version": 3
   },
   "file_extension": ".py",
   "mimetype": "text/x-python",
   "name": "python",
   "nbconvert_exporter": "python",
   "pygments_lexer": "ipython3",
   "version": "3.8.5"
  }
 },
 "nbformat": 4,
 "nbformat_minor": 5
}
