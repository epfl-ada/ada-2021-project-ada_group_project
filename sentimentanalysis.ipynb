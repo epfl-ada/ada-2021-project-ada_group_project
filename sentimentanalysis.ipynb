{
 "cells": [
  {
   "cell_type": "markdown",
   "id": "fdeada39-6cc3-4bca-83aa-6f061d39e167",
   "metadata": {},
   "source": [
    "## Experimenting with Sentiment Analysis (to be continued)"
   ]
  },
  {
   "cell_type": "code",
   "execution_count": 65,
   "id": "370cfd79-d563-4f69-962c-c0c91683ef2b",
   "metadata": {},
   "outputs": [
    {
     "name": "stdout",
     "output_type": "stream",
     "text": [
      "The autoreload extension is already loaded. To reload it, use:\n",
      "  %reload_ext autoreload\n"
     ]
    }
   ],
   "source": [
    "%load_ext autoreload\n",
    "%autoreload 2\n",
    "\n",
    "import pandas as pd\n",
    "import numpy as np\n",
    "\n",
    "import warnings; warnings.simplefilter('ignore')\n",
    "import os, codecs, string, random\n",
    "import numpy as np\n",
    "from numpy.random import seed as random_seed\n",
    "from numpy.random import shuffle as random_shuffle\n",
    "import matplotlib.pyplot as plt\n",
    "%matplotlib inline  \n",
    "\n",
    "seed = 42\n",
    "random.seed(seed)\n",
    "np.random.seed(seed)\n",
    "\n",
    "#NLP libraries\n",
    "import spacy, nltk, gensim, sklearn\n",
    "import pyLDAvis.gensim_models\n",
    "\n",
    "#Vader\n",
    "import vaderSentiment\n",
    "from vaderSentiment.vaderSentiment import SentimentIntensityAnalyzer\n",
    "\n",
    "#Scikit imports\n",
    "from sklearn.feature_extraction.text import CountVectorizer\n",
    "from sklearn.model_selection import train_test_split\n",
    "from sklearn.model_selection import cross_val_score\n",
    "from sklearn.linear_model import LogisticRegression\n",
    "from sklearn import preprocessing\n",
    "from sklearn.preprocessing import StandardScaler\n",
    "from sklearn.utils import shuffle\n",
    "\n",
    "#The data\n",
    "corpus_root = 'books/'"
   ]
  },
  {
   "cell_type": "code",
   "execution_count": 66,
   "id": "39a08b68-14b9-469b-b352-7d022a59c39d",
   "metadata": {},
   "outputs": [],
   "source": [
    "df15 = pd.read_csv(\"../Downloads/df15.csv\")\n",
    "df20 = pd.read_csv(\"../Downloads/df20.csv\")"
   ]
  },
  {
   "cell_type": "code",
   "execution_count": 67,
   "id": "4b905fcd-7cea-4773-a931-8c7bb71fe6ea",
   "metadata": {},
   "outputs": [],
   "source": [
    "words = ['lesbian', 'gay', 'homosexual', 'gender', 'bisexual', 'sexuality', 'same sex',\n",
    "         'asexual', 'biphobia', 'bisexual', 'coming out', 'coming-out', 'gender identity',\n",
    "        'queer', 'genderqueer', 'gender-queer', 'homophobia', 'LGBTQ', 'LGBT', 'LGBTQ+', 'LGBTQIA',\n",
    "        'lgbtq', 'lgbt', 'lgbtq+', 'lgbtqia', 'non binary', 'non-binary', 'transgender'] "
   ]
  },
  {
   "cell_type": "code",
   "execution_count": 68,
   "id": "3ed265b7-c28d-4519-895a-f5e6744963fc",
   "metadata": {},
   "outputs": [],
   "source": [
    "# a lot of quotes with \"bi\" and \"ally\" aren't relevant so remove the rows that include these and don't include other relevant words \n",
    "\n",
    "df15 = df15[~(df15.quotation.str.contains(\"bi\") & ~df15.quotation.isin(words))]\n",
    "df15 = df15[~(df15.quotation.str.contains(\"ally\") & ~df15.quotation.isin(words))]\n",
    "\n",
    "df20 = df20[~(df20.quotation.str.contains(\"bi\") & ~df20.quotation.isin(words))]\n",
    "df20 = df20[~(df20.quotation.str.contains(\"ally\") & ~df20.quotation.isin(words))]"
   ]
  },
  {
   "cell_type": "code",
   "execution_count": 69,
   "id": "7468bae6-d44f-4e7a-9f48-29568daa8823",
   "metadata": {},
   "outputs": [],
   "source": [
    "quotes15 = df15.quotation\n",
    "quotes20 = df20.quotation"
   ]
  },
  {
   "cell_type": "code",
   "execution_count": 71,
   "id": "dba8433b-63f3-46c2-8376-3e781c245f36",
   "metadata": {},
   "outputs": [
    {
     "data": {
      "text/plain": [
       "\"discrimination based upon a person's sexual orientation or gender identity an unlawful discriminatory practice.. if advocating for equal pay for equal work is playing the gender card, deal me in. I am ready to play as hard as I can.. In an age where each install can cost several dollars in acquisition spend, experimenting with the use of gender signals might seem like a risky strategy. However, broadening the appeal of your game to both genders could pay dividends for publishers and developers i\""
      ]
     },
     "execution_count": 71,
     "metadata": {},
     "output_type": "execute_result"
    }
   ],
   "source": [
    "quote_string15 = '. '.join(quotes15)\n",
    "quote_string15[0:500]"
   ]
  },
  {
   "cell_type": "code",
   "execution_count": 72,
   "id": "9bca708b-2ad0-43bb-870d-9c10439e8c3b",
   "metadata": {},
   "outputs": [
    {
     "data": {
      "text/plain": [
       "\"We can close the gender gap in hockey with the right partnerships and strategies, and this NHLCA Female Coaches Development Program is advancing equity in a way that will produce dividends for the sport long term.. That just doesn't cut it... The Mayor has to stand on his record. And what we need to know is exactly what's lurking out there. He has gotten some number of women -- dozens, who knows -- to sign nondisclosure agreements both for sexual harassment and for gender discrimination in the w\""
      ]
     },
     "execution_count": 72,
     "metadata": {},
     "output_type": "execute_result"
    }
   ],
   "source": [
    "quote_string20 = '. '.join(quotes20)\n",
    "quote_string20[0:500]"
   ]
  },
  {
   "cell_type": "code",
   "execution_count": 74,
   "id": "5dce8876-6e92-4bdb-af7a-80191a3ccaf2",
   "metadata": {},
   "outputs": [],
   "source": [
    "nlp = spacy.load('en_core_web_sm')"
   ]
  },
  {
   "cell_type": "code",
   "execution_count": 47,
   "id": "979d0ec7-19b6-454b-a93b-29fceb652feb",
   "metadata": {},
   "outputs": [],
   "source": [
    "# Looking at a single quote\n",
    "analyzer = SentimentIntensityAnalyzer()\n",
    "vs = analyzer.polarity_scores(quote1)"
   ]
  },
  {
   "cell_type": "code",
   "execution_count": 76,
   "id": "9eb6e64f-d2f9-433d-b04a-7198ee179d93",
   "metadata": {},
   "outputs": [],
   "source": [
    "quote1 = quotes15[70]"
   ]
  },
  {
   "cell_type": "code",
   "execution_count": 77,
   "id": "0d55c92b-82cc-4514-a6d8-d93c3e4bfa0f",
   "metadata": {},
   "outputs": [
    {
     "name": "stdout",
     "output_type": "stream",
     "text": [
      "if advocating for equal pay for equal work is playing the gender card, deal me in. I am ready to play as hard as I can. \n",
      "\n",
      "Negative sentiment: 0.092\n",
      "Neutral sentiment: 0.689\n",
      "Positive sentiment: 0.22\n",
      "Compound sentiment: 0.5994\n"
     ]
    }
   ],
   "source": [
    "print(quote1, '\\n')\n",
    "print('Negative sentiment:',vs['neg'])\n",
    "print('Neutral sentiment:',vs['neu'])\n",
    "print('Positive sentiment:',vs['pos'])\n",
    "print('Compound sentiment:',vs['compound'])"
   ]
  },
  {
   "cell_type": "code",
   "execution_count": 78,
   "id": "95be0c24-b86c-47bc-92da-8fa03be27a55",
   "metadata": {},
   "outputs": [],
   "source": [
    "doc15 = nlp(quote_string15)\n",
    "doc20 = nlp(quote_string20)"
   ]
  },
  {
   "cell_type": "code",
   "execution_count": null,
   "id": "94fe86dc-6059-4a79-8325-79a27076d693",
   "metadata": {},
   "outputs": [],
   "source": [
    "#nlp.add_pipe(nlp.create_pipe('sentencizer'))"
   ]
  },
  {
   "cell_type": "markdown",
   "id": "03ffdf17-398b-4b58-a6d6-36f6bf497014",
   "metadata": {},
   "source": [
    "### 2015 Quotes"
   ]
  },
  {
   "cell_type": "code",
   "execution_count": 79,
   "id": "8774351f-ac32-4f4a-bb35-b27bc15e7d46",
   "metadata": {},
   "outputs": [
    {
     "data": {
      "text/plain": [
       "Text(0, 0.5, 'Number of sentences')"
      ]
     },
     "execution_count": 79,
     "metadata": {},
     "output_type": "execute_result"
    },
    {
     "data": {
      "image/png": "[encoded data removed]",
      "text/plain": [
       "<Figure size 432x288 with 1 Axes>"
      ]
     },
     "metadata": {
      "needs_background": "light"
     },
     "output_type": "display_data"
    }
   ],
   "source": [
    "positive_sent = []\n",
    "#iterate through the sentences, get polarity scores, choose a value\n",
    "[positive_sent.append(analyzer.polarity_scores(sent.text)['pos']) for sent in doc15.sents]\n",
    "plt.hist(positive_sent,bins=15)\n",
    "plt.xlim([0,1])\n",
    "plt.ylim([0,8000])\n",
    "plt.xlabel('Positive sentiment')\n",
    "plt.ylabel('Number of sentences')"
   ]
  },
  {
   "cell_type": "code",
   "execution_count": 80,
   "id": "72d283b6-58d9-47ca-882f-eee7fb615922",
   "metadata": {},
   "outputs": [
    {
     "data": {
      "text/plain": [
       "Text(0, 0.5, 'Number of sentences')"
      ]
     },
     "execution_count": 80,
     "metadata": {},
     "output_type": "execute_result"
    },
    {
     "data": {
      "image/png": "[encoded data removed]",
      "text/plain": [
       "<Figure size 432x288 with 1 Axes>"
      ]
     },
     "metadata": {
      "needs_background": "light"
     },
     "output_type": "display_data"
    }
   ],
   "source": [
    "negative_sent = []\n",
    "[negative_sent.append(analyzer.polarity_scores(sent.text)['neg']) for sent in doc15.sents]\n",
    "plt.hist(negative_sent,bins=15)\n",
    "plt.xlim([0,1])\n",
    "plt.ylim([0,8000])\n",
    "plt.xlabel('Negative sentiment')\n",
    "plt.ylabel('Number of sentences')"
   ]
  },
  {
   "cell_type": "code",
   "execution_count": 81,
   "id": "00e79a5e-5da8-43b7-9d3f-2d57833aca0e",
   "metadata": {},
   "outputs": [
    {
     "data": {
      "text/plain": [
       "Text(0, 0.5, 'Number of sentences')"
      ]
     },
     "execution_count": 81,
     "metadata": {},
     "output_type": "execute_result"
    },
    {
     "data": {
      "image/png": "[encoded data removed]",
      "text/plain": [
       "<Figure size 432x288 with 1 Axes>"
      ]
     },
     "metadata": {
      "needs_background": "light"
     },
     "output_type": "display_data"
    }
   ],
   "source": [
    "total_sent = []\n",
    "[total_sent.append(analyzer.polarity_scores(sent.text)['compound']) for sent in doc15.sents]\n",
    "plt.hist(total_sent,bins = 15)\n",
    "plt.xlim([-1,1])\n",
    "plt.ylim([0,8000])\n",
    "plt.xlabel('Compound sentiment')\n",
    "plt.ylabel('Number of sentences')"
   ]
  },
  {
   "cell_type": "code",
   "execution_count": 83,
   "id": "b1e4c1a7-8d88-4d98-b831-69bbe2d5669c",
   "metadata": {},
   "outputs": [
    {
     "name": "stdout",
     "output_type": "stream",
     "text": [
      "Number of positive sentences: 3744\n",
      "Number of negative sentences: 2230\n",
      "Number of neutral sentences: 3549\n"
     ]
    }
   ],
   "source": [
    "sents = [analyzer.polarity_scores(sent.text)['compound'] for sent in doc15.sents]\n",
    "print('Number of positive sentences:',sum(np.array(sents)>=0.05))\n",
    "print('Number of negative sentences:',sum(np.array(sents)<=-0.05))\n",
    "print('Number of neutral sentences:',sum(np.abs(np.array(sents))<0.05))"
   ]
  },
  {
   "cell_type": "markdown",
   "id": "771794f1-44c6-43c9-b58b-98836f6f9fe9",
   "metadata": {},
   "source": [
    "### 2020 Quotes"
   ]
  },
  {
   "cell_type": "code",
   "execution_count": 84,
   "id": "1d7a927a-642c-4c4a-bfc0-9191df9ec951",
   "metadata": {},
   "outputs": [
    {
     "data": {
      "text/plain": [
       "Text(0, 0.5, 'Number of sentences')"
      ]
     },
     "execution_count": 84,
     "metadata": {},
     "output_type": "execute_result"
    },
    {
     "data": {
      "image/png": "[encoded data removed]",
      "text/plain": [
       "<Figure size 432x288 with 1 Axes>"
      ]
     },
     "metadata": {
      "needs_background": "light"
     },
     "output_type": "display_data"
    }
   ],
   "source": [
    "positive_sent = []\n",
    "#iterate through the sentences, get polarity scores, choose a value\n",
    "[positive_sent.append(analyzer.polarity_scores(sent.text)['pos']) for sent in doc20.sents]\n",
    "plt.hist(positive_sent,bins=15)\n",
    "plt.xlim([0,1])\n",
    "plt.ylim([0,2000])\n",
    "plt.xlabel('Positive sentiment')\n",
    "plt.ylabel('Number of sentences')"
   ]
  },
  {
   "cell_type": "code",
   "execution_count": 85,
   "id": "1e6ca496-3ab0-4832-a03b-7338a540fc16",
   "metadata": {},
   "outputs": [
    {
     "data": {
      "text/plain": [
       "Text(0, 0.5, 'Number of sentences')"
      ]
     },
     "execution_count": 85,
     "metadata": {},
     "output_type": "execute_result"
    },
    {
     "data": {
      "image/png": "[encoded data removed]",
      "text/plain": [
       "<Figure size 432x288 with 1 Axes>"
      ]
     },
     "metadata": {
      "needs_background": "light"
     },
     "output_type": "display_data"
    }
   ],
   "source": [
    "negative_sent = []\n",
    "[negative_sent.append(analyzer.polarity_scores(sent.text)['neg']) for sent in doc20.sents]\n",
    "plt.hist(negative_sent,bins=15)\n",
    "plt.xlim([0,1])\n",
    "plt.ylim([0,2000])\n",
    "plt.xlabel('Negative sentiment')\n",
    "plt.ylabel('Number of sentences')"
   ]
  },
  {
   "cell_type": "code",
   "execution_count": 86,
   "id": "046cac9c-0fb6-47f2-964c-4ff756c4a95a",
   "metadata": {},
   "outputs": [
    {
     "data": {
      "text/plain": [
       "Text(0, 0.5, 'Number of sentences')"
      ]
     },
     "execution_count": 86,
     "metadata": {},
     "output_type": "execute_result"
    },
    {
     "data": {
      "image/png": "[encoded data removed]",
      "text/plain": [
       "<Figure size 432x288 with 1 Axes>"
      ]
     },
     "metadata": {
      "needs_background": "light"
     },
     "output_type": "display_data"
    }
   ],
   "source": [
    "total_sent = []\n",
    "[total_sent.append(analyzer.polarity_scores(sent.text)['compound']) for sent in doc20.sents]\n",
    "plt.hist(total_sent,bins = 15)\n",
    "plt.xlim([-1,1])\n",
    "plt.ylim([0,2000])\n",
    "plt.xlabel('Compound sentiment')\n",
    "plt.ylabel('Number of sentences')"
   ]
  },
  {
   "cell_type": "code",
   "execution_count": null,
   "id": "820149ce-4d93-4d2d-8076-60c3fe44dcd1",
   "metadata": {},
   "outputs": [],
   "source": []
  }
 ],
 "metadata": {
  "kernelspec": {
   "display_name": "Python [conda env:ada] *",
   "language": "python",
   "name": "conda-env-ada-py"
  },
  "language_info": {
   "codemirror_mode": {
    "name": "ipython",
    "version": 3
   },
   "file_extension": ".py",
   "mimetype": "text/x-python",
   "name": "python",
   "nbconvert_exporter": "python",
   "pygments_lexer": "ipython3",
   "version": "3.8.12"
  }
 },
 "nbformat": 4,
 "nbformat_minor": 5
}
