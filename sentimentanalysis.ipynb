{
 "cells": [
  {
   "cell_type": "markdown",
   "id": "fdeada39-6cc3-4bca-83aa-6f061d39e167",
   "metadata": {},
   "source": [
    "## Experimenting with Sentiment Analysis (to be continued)"
   ]
  },
  {
   "cell_type": "code",
   "execution_count": 1,
   "id": "370cfd79-d563-4f69-962c-c0c91683ef2b",
   "metadata": {},
   "outputs": [],
   "source": [
    "%load_ext autoreload\n",
    "%autoreload 2\n",
    "\n",
    "import pandas as pd\n",
    "import numpy as np\n",
    "\n",
    "import warnings; warnings.simplefilter('ignore')\n",
    "import os, codecs, string, random\n",
    "import numpy as np\n",
    "from numpy.random import seed as random_seed\n",
    "from numpy.random import shuffle as random_shuffle\n",
    "import matplotlib.pyplot as plt\n",
    "%matplotlib inline  \n",
    "\n",
    "seed = 42\n",
    "random.seed(seed)\n",
    "np.random.seed(seed)\n",
    "\n",
    "#NLP libraries\n",
    "import spacy, nltk, gensim, sklearn\n",
    "import pyLDAvis.gensim_models\n",
    "\n",
    "#Vader\n",
    "import vaderSentiment\n",
    "from vaderSentiment.vaderSentiment import SentimentIntensityAnalyzer\n",
    "\n",
    "#Scikit imports\n",
    "from sklearn.feature_extraction.text import CountVectorizer\n",
    "from sklearn.model_selection import train_test_split\n",
    "from sklearn.model_selection import cross_val_score\n",
    "from sklearn.linear_model import LogisticRegression\n",
    "from sklearn import preprocessing\n",
    "from sklearn.preprocessing import StandardScaler\n",
    "from sklearn.utils import shuffle\n",
    "\n",
    "#The data\n",
    "corpus_root = 'books/'"
   ]
  },
  {
   "cell_type": "code",
   "execution_count": 2,
   "id": "39a08b68-14b9-469b-b352-7d022a59c39d",
   "metadata": {},
   "outputs": [],
   "source": [
    "df15 = pd.read_csv(\"../Downloads/df15.csv\")\n",
    "df16 = pd.read_csv(\"../Downloads/df16.csv\")\n",
    "df17 = pd.read_csv(\"../Downloads/df17.csv\")\n",
    "df18 = pd.read_csv(\"../Downloads/df18.csv\")\n",
    "df19 = pd.read_csv(\"../Downloads/df19.csv\")\n",
    "df20 = pd.read_csv(\"../Downloads/df20.csv\")"
   ]
  },
  {
   "cell_type": "code",
   "execution_count": 3,
   "id": "4b905fcd-7cea-4773-a931-8c7bb71fe6ea",
   "metadata": {},
   "outputs": [],
   "source": [
    "words = ['lesbian', 'gay', 'homosexual', 'gender', 'bisexual', 'sexuality', 'same sex',\n",
    "         'asexual', 'biphobia', 'bisexual', 'coming out', 'coming-out', 'gender identity',\n",
    "        'queer', 'genderqueer', 'gender-queer', 'homophobia', 'LGBTQ', 'LGBT', 'LGBTQ+', 'LGBTQIA',\n",
    "        'lgbtq', 'lgbt', 'lgbtq+', 'lgbtqia', 'non binary', 'non-binary', 'transgender'] "
   ]
  },
  {
   "cell_type": "code",
   "execution_count": 4,
   "id": "3ed265b7-c28d-4519-895a-f5e6744963fc",
   "metadata": {},
   "outputs": [],
   "source": [
    "# a lot of quotes with \"bi\" and \"ally\" aren't relevant so remove the rows that include these and don't include other relevant words \n",
    "\n",
    "df15 = df15[~(df15.quotation.str.contains(\"bi\") & ~df15.quotation.isin(words))]\n",
    "df15 = df15[~(df15.quotation.str.contains(\"ally\") & ~df15.quotation.isin(words))]\n",
    "\n",
    "df16 = df16[~(df16.quotation.str.contains(\"bi\") & ~df16.quotation.isin(words))]\n",
    "df16 = df16[~(df16.quotation.str.contains(\"ally\") & ~df16.quotation.isin(words))]\n",
    "\n",
    "df17 = df17[~(df17.quotation.str.contains(\"bi\") & ~df17.quotation.isin(words))]\n",
    "df17 = df17[~(df17.quotation.str.contains(\"ally\") & ~df17.quotation.isin(words))]\n",
    "\n",
    "df18 = df18[~(df18.quotation.str.contains(\"bi\") & ~df18.quotation.isin(words))]\n",
    "df18 = df18[~(df18.quotation.str.contains(\"ally\") & ~df18.quotation.isin(words))]\n",
    "\n",
    "df19 = df19[~(df19.quotation.str.contains(\"bi\") & ~df19.quotation.isin(words))]\n",
    "df19 = df19[~(df19.quotation.str.contains(\"ally\") & ~df19.quotation.isin(words))]\n",
    "\n",
    "df20 = df20[~(df20.quotation.str.contains(\"bi\") & ~df20.quotation.isin(words))]\n",
    "df20 = df20[~(df20.quotation.str.contains(\"ally\") & ~df20.quotation.isin(words))]"
   ]
  },
  {
   "cell_type": "code",
   "execution_count": 17,
   "id": "7468bae6-d44f-4e7a-9f48-29568daa8823",
   "metadata": {},
   "outputs": [],
   "source": [
    "# Get quotes for each year (split longer ones into two parts so they are small enough for nlp)\n",
    "quotes15 = df15.quotation\n",
    "quotes16 = df16.quotation\n",
    "quotes17_1 = df17.quotation[0:int(df17.shape[0]/2)]\n",
    "quotes17_2 = df17.quotation[int(df17.shape[0]/2):df17.shape[0]]\n",
    "quotes18_1 = df18.quotation[0:int(df18.shape[0]/2)]\n",
    "quotes18_2 = df18.quotation[int(df18.shape[0]/2):df18.shape[0]]\n",
    "quotes19_1 = df19.quotation[0:int(df19.shape[0]/2)]\n",
    "quotes19_2 =df19.quotation[int(df19.shape[0]/2):df19.shape[0]]\n",
    "quotes20 = df20.quotation"
   ]
  },
  {
   "cell_type": "code",
   "execution_count": 25,
   "id": "dba8433b-63f3-46c2-8376-3e781c245f36",
   "metadata": {},
   "outputs": [],
   "source": [
    "# Create one big string from quotes\n",
    "quote_string15 = '. '.join(quotes15)\n",
    "quote_string16 = '. '.join(quotes16)\n",
    "quote_string17_1 = '. '.join(quotes17_1)\n",
    "quote_string17_2 = '. '.join(quotes17_2)\n",
    "quote_string18_1 = '. '.join(quotes18_1)\n",
    "quote_string18_2 = '. '.join(quotes18_2)\n",
    "quote_string19_1 = '. '.join(quotes19_1)\n",
    "quote_string19_2 = '. '.join(quotes19_2)\n",
    "quote_string20 = '. '.join(quotes20)"
   ]
  },
  {
   "cell_type": "code",
   "execution_count": 21,
   "id": "5dce8876-6e92-4bdb-af7a-80191a3ccaf2",
   "metadata": {},
   "outputs": [],
   "source": [
    "nlp = spacy.load('en_core_web_sm')"
   ]
  },
  {
   "cell_type": "code",
   "execution_count": 22,
   "id": "979d0ec7-19b6-454b-a93b-29fceb652feb",
   "metadata": {},
   "outputs": [],
   "source": [
    "# Looking at a single quote\n",
    "quote1 = quotes15[70]\n",
    "analyzer = SentimentIntensityAnalyzer()\n",
    "vs = analyzer.polarity_scores(quote1)"
   ]
  },
  {
   "cell_type": "code",
   "execution_count": 23,
   "id": "0d55c92b-82cc-4514-a6d8-d93c3e4bfa0f",
   "metadata": {},
   "outputs": [
    {
     "name": "stdout",
     "output_type": "stream",
     "text": [
      "if advocating for equal pay for equal work is playing the gender card, deal me in. I am ready to play as hard as I can. \n",
      "\n",
      "Negative sentiment: 0.092\n",
      "Neutral sentiment: 0.689\n",
      "Positive sentiment: 0.22\n",
      "Compound sentiment: 0.5994\n"
     ]
    }
   ],
   "source": [
    "print(quote1, '\\n')\n",
    "print('Negative sentiment:',vs['neg'])\n",
    "print('Neutral sentiment:',vs['neu'])\n",
    "print('Positive sentiment:',vs['pos'])\n",
    "print('Compound sentiment:',vs['compound'])"
   ]
  },
  {
   "cell_type": "code",
   "execution_count": 26,
   "id": "95be0c24-b86c-47bc-92da-8fa03be27a55",
   "metadata": {},
   "outputs": [],
   "source": [
    "# nlp docs\n",
    "doc15 = nlp(quote_string15)\n",
    "doc16 = nlp(quote_string16)\n",
    "doc17_1 = nlp(quote_string17_1)\n",
    "doc17_2 = nlp(quote_string17_2)\n",
    "doc18_1 = nlp(quote_string18_1)\n",
    "doc18_2 = nlp(quote_string18_2)\n",
    "doc19_1 = nlp(quote_string19_1)\n",
    "doc19_2 = nlp(quote_string19_2)\n",
    "doc20 = nlp(quote_string20)"
   ]
  },
  {
   "cell_type": "code",
   "execution_count": null,
   "id": "94fe86dc-6059-4a79-8325-79a27076d693",
   "metadata": {},
   "outputs": [],
   "source": [
    "#nlp.add_pipe(nlp.create_pipe('sentencizer'))"
   ]
  },
  {
   "cell_type": "code",
   "execution_count": null,
   "id": "844a3852-5b74-4723-bf04-57fc0f73799f",
   "metadata": {},
   "outputs": [],
   "source": []
  },
  {
   "cell_type": "code",
   "execution_count": 39,
   "id": "b1e4c1a7-8d88-4d98-b831-69bbe2d5669c",
   "metadata": {
    "tags": []
   },
   "outputs": [
    {
     "name": "stdout",
     "output_type": "stream",
     "text": [
      "2015\n",
      "Number of positive sentences: 3744\n",
      "Number of negative sentences: 2230\n",
      "Number of neutral sentences: 3549 \n",
      "\n",
      "2016\n",
      "Number of positive sentences: 2662\n",
      "Number of negative sentences: 1742\n",
      "Number of neutral sentences: 2522 \n",
      "\n",
      "2017\n",
      "Number of positive sentences: 4459\n",
      "Number of negative sentences: 2895\n",
      "Number of neutral sentences: 3696 \n",
      "\n",
      "2018\n",
      "Number of positive sentences: 4064\n",
      "Number of negative sentences: 2436\n",
      "Number of neutral sentences: 3494 \n",
      "\n",
      "2019\n",
      "Number of positive sentences: 4202\n",
      "Number of negative sentences: 2742\n",
      "Number of neutral sentences: 3471 \n",
      "\n"
     ]
    }
   ],
   "source": [
    "# Look at number of positive/negative/neutral sentences\n",
    "docs = [doc15, doc16, doc17_1, doc17_2, doc18_1, doc18_2, doc19_1, doc19_2, doc20]\n",
    "p = []\n",
    "n = []\n",
    "c = []\n",
    "for i, doc in enumerate(docs):\n",
    "    sents = [analyzer.polarity_scores(sent.text)['compound'] for sent in doc.sents]\n",
    "    p.append(sum(np.array(sents)>=0.05))\n",
    "    n.append(sum(np.array(sents)<=-0.05))\n",
    "    c.append(sum(np.abs(np.array(sents))<0.05))\n",
    "    \n",
    "#Combine amounts for 2017, 2018, and 2019\n",
    "p[2] = p[2]+p[3]\n",
    "p[4] = p[4]+p[5]\n",
    "p[6] = p[6]+p[7]\n",
    "p = [j for i, j in enumerate(p) if i not in [3, 5, 7]]\n",
    "\n",
    "n[2] = n[2]+n[3]\n",
    "n[4] = n[4]+n[5]\n",
    "n[6] = n[6]+n[7]\n",
    "n = [j for i, j in enumerate(n) if i not in [3, 5, 7]]\n",
    "\n",
    "c[2] = c[2]+c[3]\n",
    "c[4] = c[4]+c[5]\n",
    "c[6] = c[6]+c[7]\n",
    "c = [j for i, j in enumerate(c) if i not in [3, 5, 7]]\n",
    "\n",
    "for i in range(5):\n",
    "    print(i+2015)\n",
    "    print('Number of positive sentences:', p[i])\n",
    "    print('Number of negative sentences:', n[i])\n",
    "    print('Number of neutral sentences:', c[i],\"\\n\")"
   ]
  },
  {
   "cell_type": "code",
   "execution_count": 40,
   "id": "8f7ad957-c4b5-4feb-a555-460dd91f65eb",
   "metadata": {},
   "outputs": [],
   "source": [
    "# Get positive, negative, and compound sentiments for each doc\n",
    "docs = [doc15, doc16, doc17_1, doc17_2, doc18_1, doc18_2, doc19_1, doc19_2, doc20]\n",
    "positive_sents = []\n",
    "negative_sents = []\n",
    "compound_sents = []\n",
    "\n",
    "for i, doc in enumerate(docs):\n",
    "    positive_sent = []\n",
    "    negative_sent = []\n",
    "    total_sent = []\n",
    "    [positive_sent.append(analyzer.polarity_scores(sent.text)['pos']) for sent in doc.sents]\n",
    "    [negative_sent.append(analyzer.polarity_scores(sent.text)['neg']) for sent in doc.sents]\n",
    "    [total_sent.append(analyzer.polarity_scores(sent.text)['compound']) for sent in doc.sents]\n",
    "    positive_sents.append(positive_sent)\n",
    "    negative_sents.append(negative_sent)\n",
    "    compound_sents.append(total_sent)"
   ]
  },
  {
   "cell_type": "code",
   "execution_count": 41,
   "id": "485a8652-6698-4af0-be71-7ef3c93e6268",
   "metadata": {},
   "outputs": [],
   "source": [
    "# Combine the sentiments for the years that were split\n",
    "positive_sents[2] = positive_sents[2]+positive_sents[3]\n",
    "positive_sents[4] = positive_sents[4]+positive_sents[5]\n",
    "positive_sents[6] = positive_sents[6]+positive_sents[7]\n",
    "positive_sents = [j for i, j in enumerate(positive_sents) if i not in [3, 5, 7]]"
   ]
  },
  {
   "cell_type": "code",
   "execution_count": 42,
   "id": "0188345e-4987-4027-90fa-c4981f90d1a2",
   "metadata": {},
   "outputs": [
    {
     "data": {
      "image/png": "[encoded data removed]",
      "text/plain": [
       "<Figure size 1080x1080 with 18 Axes>"
      ]
     },
     "metadata": {
      "needs_background": "light"
     },
     "output_type": "display_data"
    }
   ],
   "source": [
    "# Plot the sentiments for each year\n",
    "\n",
    "fig=plt.figure(figsize= (15,15))\n",
    "\n",
    "for i in range(6):\n",
    "    ax1=fig.add_subplot(3,6,i+1)\n",
    "    ax2=fig.add_subplot(3,6,i+7)\n",
    "    ax3=fig.add_subplot(3,6,i+13)\n",
    "    if (i == 0):\n",
    "        ax1.set_ylabel(\"Positive Sentiment\")\n",
    "        ax2.set_ylabel(\"Negative Sentiment\")\n",
    "        ax3.set_ylabel(\"Compound Sentiment\")\n",
    "    ax1.hist(positive_sents[i], bins = 15)\n",
    "    ax2.hist(negative_sents[i], bins = 15)\n",
    "    ax3.hist(compound_sents[i], bins = 15)\n",
    "    ax1.set_title(\"{}\".format(i+2015))\n",
    "        \n",
    "fig.tight_layout() \n",
    "plt.show()"
   ]
  },
  {
   "cell_type": "code",
   "execution_count": null,
   "id": "3dbd4bc4-4c7d-4812-91e0-bf91f6cf2389",
   "metadata": {},
   "outputs": [],
   "source": []
  }
 ],
 "metadata": {
  "kernelspec": {
   "display_name": "Python 3 (ipykernel)",
   "language": "python",
   "name": "python3"
  },
  "language_info": {
   "codemirror_mode": {
    "name": "ipython",
    "version": 3
   },
   "file_extension": ".py",
   "mimetype": "text/x-python",
   "name": "python",
   "nbconvert_exporter": "python",
   "pygments_lexer": "ipython3",
   "version": "3.8.12"
  }
 },
 "nbformat": 4,
 "nbformat_minor": 5
}
